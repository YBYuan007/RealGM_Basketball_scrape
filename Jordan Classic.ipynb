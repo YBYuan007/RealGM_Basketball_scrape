{
 "cells": [
  {
   "cell_type": "code",
   "execution_count": 1,
   "metadata": {},
   "outputs": [],
   "source": [
    "import numpy as np \n",
    "import pandas as pd \n",
    "import requests \n",
    "from bs4 import BeautifulSoup "
   ]
  },
  {
   "cell_type": "code",
   "execution_count": 3,
   "metadata": {},
   "outputs": [
    {
     "data": {
      "text/plain": [
       "'https://basketball.realgm.com/highschool/jordan_classic/Boxscore/2002'"
      ]
     },
     "execution_count": 3,
     "metadata": {},
     "output_type": "execute_result"
    }
   ],
   "source": [
    "years= list(range(2002, 2020))\n",
    "url=\"https://basketball.realgm.com/highschool/jordan_classic/Boxscore/\"+str(years[0])\n",
    "url"
   ]
  },
  {
   "cell_type": "code",
   "execution_count": 4,
   "metadata": {},
   "outputs": [],
   "source": [
    "re = requests.get(url)\n",
    "soup = BeautifulSoup(re.text,\"html5lib\")"
   ]
  },
  {
   "cell_type": "code",
   "execution_count": 5,
   "metadata": {},
   "outputs": [],
   "source": [
    "tables = soup.find_all(\"thead\")"
   ]
  },
  {
   "cell_type": "code",
   "execution_count": 6,
   "metadata": {},
   "outputs": [
    {
     "data": {
      "text/plain": [
       "['Player',\n",
       " 'Status',\n",
       " 'Pos',\n",
       " 'Min',\n",
       " 'FGM-A',\n",
       " '3PM-A',\n",
       " 'FTM-A',\n",
       " 'FIC',\n",
       " 'Off',\n",
       " 'Def',\n",
       " 'Reb',\n",
       " 'Ast',\n",
       " 'PF',\n",
       " 'STL',\n",
       " 'TO',\n",
       " 'BLK',\n",
       " 'PTS']"
      ]
     },
     "execution_count": 6,
     "metadata": {},
     "output_type": "execute_result"
    }
   ],
   "source": [
    "col_list=tables[3].text.split(\"\\n\")\n",
    "col_list = [x for x in col_list if str(x) != '' ]\n",
    "col_list"
   ]
  },
  {
   "cell_type": "code",
   "execution_count": 7,
   "metadata": {},
   "outputs": [
    {
     "data": {
      "text/plain": [
       "17"
      ]
     },
     "execution_count": 7,
     "metadata": {},
     "output_type": "execute_result"
    }
   ],
   "source": [
    "col_num=len(col_list)\n",
    "col_num"
   ]
  },
  {
   "cell_type": "code",
   "execution_count": 8,
   "metadata": {},
   "outputs": [],
   "source": [
    "def away_table(ss,year): \n",
    "    dirr = {}\n",
    "    for elem in col_list:\n",
    "        dirr[elem] = [] \n",
    "    \n",
    "    away_value = ss.find_all(\"tbody\")[3].text.split(\"\\n\")\n",
    "    away_value = [x for x in away_value if str(x) !=\"\"]\n",
    "    for i,value in enumerate(away_value): \n",
    "        for k in range(17):\n",
    "            if i%17 == k: \n",
    "                dirr[col_list[k]].append(value)\n",
    "    away_table = pd.DataFrame(dirr)\n",
    "    away_table[\"year\"] = year\n",
    "    away_table.to_excel(\"Jordan Classic/jordan_{}_away.xlsx\".format(year)) "
   ]
  },
  {
   "cell_type": "code",
   "execution_count": 9,
   "metadata": {},
   "outputs": [
    {
     "name": "stdout",
     "output_type": "stream",
     "text": [
      "https://basketball.realgm.com/highschool/jordan_classic/Boxscore/2002\n",
      "https://basketball.realgm.com/highschool/jordan_classic/Boxscore/2003\n",
      "https://basketball.realgm.com/highschool/jordan_classic/Boxscore/2004\n",
      "https://basketball.realgm.com/highschool/jordan_classic/Boxscore/2005\n",
      "https://basketball.realgm.com/highschool/jordan_classic/Boxscore/2006\n",
      "https://basketball.realgm.com/highschool/jordan_classic/Boxscore/2007\n",
      "https://basketball.realgm.com/highschool/jordan_classic/Boxscore/2008\n",
      "https://basketball.realgm.com/highschool/jordan_classic/Boxscore/2009\n",
      "https://basketball.realgm.com/highschool/jordan_classic/Boxscore/2010\n",
      "https://basketball.realgm.com/highschool/jordan_classic/Boxscore/2011\n",
      "https://basketball.realgm.com/highschool/jordan_classic/Boxscore/2012\n",
      "https://basketball.realgm.com/highschool/jordan_classic/Boxscore/2013\n",
      "https://basketball.realgm.com/highschool/jordan_classic/Boxscore/2014\n",
      "https://basketball.realgm.com/highschool/jordan_classic/Boxscore/2015\n",
      "https://basketball.realgm.com/highschool/jordan_classic/Boxscore/2016\n",
      "https://basketball.realgm.com/highschool/jordan_classic/Boxscore/2017\n",
      "https://basketball.realgm.com/highschool/jordan_classic/Boxscore/2018\n",
      "https://basketball.realgm.com/highschool/jordan_classic/Boxscore/2019\n"
     ]
    }
   ],
   "source": [
    "years= list(range(2002, 2020))\n",
    "\n",
    "for y in years: \n",
    "    url=\"https://basketball.realgm.com/highschool/jordan_classic/Boxscore/\"+str(y)\n",
    "    print(url)\n",
    "    re = requests.get(url)\n",
    "    ss = BeautifulSoup(re.text,\"html5lib\")\n",
    "    away_table(ss,y)"
   ]
  },
  {
   "cell_type": "code",
   "execution_count": 28,
   "metadata": {},
   "outputs": [],
   "source": [
    "def home_table(ss,year): \n",
    "    dirr = {}\n",
    "    for elem in col_list:\n",
    "        dirr[elem] = [] \n",
    "    \n",
    "    home_value = ss.find_all(\"tbody\")[4].text.split(\"\\n\")\n",
    "    home_value = [x for x in home_value if str(x) !=\"\"]\n",
    "    if year == 2019: \n",
    "        home_value.insert(-14,\"missing\")\n",
    "    for i,value in enumerate(home_value): \n",
    "        for k in range(17):             \n",
    "            if i%17 == k: \n",
    "                dirr[col_list[k]].append(value)\n",
    "    home_table = pd.DataFrame(dirr)\n",
    "    home_table[\"year\"] = year\n",
    "    home_table.to_excel(\"Jordan Classic/jordan_{}_home.xlsx\".format(year)) "
   ]
  },
  {
   "cell_type": "code",
   "execution_count": 30,
   "metadata": {},
   "outputs": [
    {
     "name": "stdout",
     "output_type": "stream",
     "text": [
      "https://basketball.realgm.com/highschool/jordan_classic/Boxscore/2002\n",
      "https://basketball.realgm.com/highschool/jordan_classic/Boxscore/2003\n",
      "https://basketball.realgm.com/highschool/jordan_classic/Boxscore/2004\n",
      "https://basketball.realgm.com/highschool/jordan_classic/Boxscore/2005\n",
      "https://basketball.realgm.com/highschool/jordan_classic/Boxscore/2006\n",
      "https://basketball.realgm.com/highschool/jordan_classic/Boxscore/2007\n",
      "https://basketball.realgm.com/highschool/jordan_classic/Boxscore/2008\n",
      "https://basketball.realgm.com/highschool/jordan_classic/Boxscore/2009\n",
      "https://basketball.realgm.com/highschool/jordan_classic/Boxscore/2010\n",
      "https://basketball.realgm.com/highschool/jordan_classic/Boxscore/2011\n",
      "https://basketball.realgm.com/highschool/jordan_classic/Boxscore/2012\n",
      "https://basketball.realgm.com/highschool/jordan_classic/Boxscore/2013\n",
      "https://basketball.realgm.com/highschool/jordan_classic/Boxscore/2014\n",
      "https://basketball.realgm.com/highschool/jordan_classic/Boxscore/2015\n",
      "https://basketball.realgm.com/highschool/jordan_classic/Boxscore/2016\n",
      "https://basketball.realgm.com/highschool/jordan_classic/Boxscore/2017\n",
      "https://basketball.realgm.com/highschool/jordan_classic/Boxscore/2018\n",
      "https://basketball.realgm.com/highschool/jordan_classic/Boxscore/2019\n"
     ]
    }
   ],
   "source": [
    "years= list(range(2002, 2020))\n",
    "\n",
    "for y in years: \n",
    "    url=\"https://basketball.realgm.com/highschool/jordan_classic/Boxscore/\"+str(y)\n",
    "    print(url)\n",
    "    re = requests.get(url)\n",
    "    ss = BeautifulSoup(re.text,\"html5lib\")\n",
    "    home_table(ss,y)"
   ]
  },
  {
   "cell_type": "code",
   "execution_count": null,
   "metadata": {},
   "outputs": [],
   "source": []
  },
  {
   "cell_type": "code",
   "execution_count": null,
   "metadata": {},
   "outputs": [],
   "source": []
  }
 ],
 "metadata": {
  "kernelspec": {
   "display_name": "Python 3",
   "language": "python",
   "name": "python3"
  },
  "language_info": {
   "codemirror_mode": {
    "name": "ipython",
    "version": 3
   },
   "file_extension": ".py",
   "mimetype": "text/x-python",
   "name": "python",
   "nbconvert_exporter": "python",
   "pygments_lexer": "ipython3",
   "version": "3.8.5"
  }
 },
 "nbformat": 4,
 "nbformat_minor": 4
}
